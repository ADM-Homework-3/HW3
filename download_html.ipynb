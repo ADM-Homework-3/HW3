{
 "cells": [
  {
   "cell_type": "code",
   "execution_count": 1,
   "metadata": {},
   "outputs": [],
   "source": [
    "from bs4 import BeautifulSoup\n",
    "import spacy\n",
    "import time\n",
    "from selenium import webdriver\n",
    "from selenium.webdriver.common.keys import Keys\n",
    "from webdriver_manager.firefox import GeckoDriverManager\n",
    "import webbrowser\n",
    "import os"
   ]
  },
  {
   "cell_type": "code",
   "execution_count": 2,
   "metadata": {},
   "outputs": [
    {
     "name": "stderr",
     "output_type": "stream",
     "text": [
      "[WDM] - Getting latest mozilla release info for v0.28.0\n",
      "[WDM] - Trying to download new driver from https://github.com/mozilla/geckodriver/releases/download/v0.28.0/geckodriver-v0.28.0-win64.zip\n",
      "[WDM] - Driver has been saved in cache [C:\\Users\\juanm\\.wdm\\drivers\\geckodriver\\win64\\v0.28.0]\n"
     ]
    }
   ],
   "source": [
    "driver = webdriver.Firefox(executable_path=GeckoDriverManager().install())"
   ]
  },
  {
   "cell_type": "code",
   "execution_count": 3,
   "metadata": {},
   "outputs": [],
   "source": [
    "def scrap_book(href):\n",
    "    driver.get(href)       \n",
    "    time.sleep(5)\n",
    "    return driver.page_source"
   ]
  },
  {
   "cell_type": "code",
   "execution_count": 4,
   "metadata": {},
   "outputs": [],
   "source": [
    "def write_file(filename, content):\n",
    "    os.makedirs(os.path.dirname(filename), exist_ok=True)\n",
    "    with open(filename, \"w\", encoding='utf-8' ) as f:\n",
    "        f.write(str(content))"
   ]
  },
  {
   "cell_type": "code",
   "execution_count": null,
   "metadata": {},
   "outputs": [
    {
     "name": "stdout",
     "output_type": "stream",
     "text": [
      "https://www.goodreads.com/book/show/91247.Ramona_and_Her_Father\n",
      "\n",
      "data/page_101/article_10001.html\n",
      "https://www.goodreads.com/book/show/48214.The_Song_of_the_Lark\n",
      "\n",
      "data/page_101/article_10002.html\n",
      "https://www.goodreads.com/book/show/5826288-diwan-e-ghalib\n",
      "\n",
      "data/page_101/article_10003.html\n",
      "https://www.goodreads.com/book/show/16206913-jaded\n",
      "\n",
      "data/page_101/article_10004.html\n",
      "https://www.goodreads.com/book/show/13616278-the-red-knight\n",
      "\n",
      "data/page_101/article_10005.html\n",
      "https://www.goodreads.com/book/show/17671483-escaping-reality\n",
      "\n",
      "data/page_101/article_10006.html\n",
      "https://www.goodreads.com/book/show/292455.The_Honorary_Consul\n",
      "\n",
      "data/page_101/article_10007.html\n",
      "https://www.goodreads.com/book/show/12652457-the-broken-eye\n",
      "\n",
      "data/page_101/article_10008.html\n",
      "https://www.goodreads.com/book/show/17195831-villains-rising\n",
      "\n",
      "data/page_101/article_10009.html\n",
      "https://www.goodreads.com/book/show/25263557-the-meursault-investigation\n",
      "\n",
      "data/page_101/article_10010.html\n",
      "https://www.goodreads.com/book/show/374494.The_Kommandant_s_Girl\n",
      "\n",
      "data/page_101/article_10011.html\n",
      "https://www.goodreads.com/book/show/13545345-tales-from-a-not-so-graceful-ice-princess\n",
      "\n",
      "data/page_101/article_10012.html\n",
      "https://www.goodreads.com/book/show/77259.O_Jerusalem\n",
      "\n",
      "data/page_101/article_10013.html\n",
      "https://www.goodreads.com/book/show/17902.Broken_April\n",
      "\n",
      "data/page_101/article_10014.html\n",
      "https://www.goodreads.com/book/show/28943.Not_the_End_of_the_World\n",
      "\n",
      "data/page_101/article_10015.html\n",
      "https://www.goodreads.com/book/show/55352.Brain_Droppings\n",
      "\n",
      "data/page_101/article_10016.html\n",
      "https://www.goodreads.com/book/show/62212.In_the_Company_of_the_Courtesan\n",
      "\n",
      "data/page_101/article_10017.html\n",
      "https://www.goodreads.com/book/show/46890.Ex_Libris\n",
      "\n",
      "data/page_101/article_10018.html\n",
      "https://www.goodreads.com/book/show/326911.Warriors\n",
      "\n",
      "data/page_101/article_10019.html\n",
      "https://www.goodreads.com/book/show/2871839-deeper\n",
      "\n",
      "data/page_101/article_10020.html\n",
      "https://www.goodreads.com/book/show/34919.The_Talismans_of_Shannara\n",
      "\n",
      "data/page_101/article_10021.html\n",
      "https://www.goodreads.com/book/show/763774.Warrior_s_Woman\n",
      "\n",
      "data/page_101/article_10022.html\n",
      "https://www.goodreads.com/book/show/1134023.Faerie_Wars\n",
      "\n"
     ]
    }
   ],
   "source": [
    "filename = 'data/book_urls.txt'\n",
    "\n",
    "\n",
    "book_urls = open(filename, 'r')\n",
    "\n",
    "count = 1\n",
    "\n",
    "for url in book_urls:\n",
    "    if count > 10000:\n",
    "        print(url)\n",
    "        \n",
    "        page_number = int((count-1)/100)+1\n",
    "\n",
    "        html = scrap_book(url)\n",
    "\n",
    "        path = 'data/page_'+str(page_number)+'/article_'+str(count)+'.html'\n",
    "\n",
    "        print(path)\n",
    "\n",
    "        write_file(path, html)\n",
    "\n",
    "    count +=1\n",
    "    \n",
    "    if count == 20001:\n",
    "        break"
   ]
  },
  {
   "cell_type": "code",
   "execution_count": null,
   "metadata": {},
   "outputs": [],
   "source": []
  }
 ],
 "metadata": {
  "kernelspec": {
   "display_name": "Python 3",
   "language": "python",
   "name": "python3"
  },
  "language_info": {
   "codemirror_mode": {
    "name": "ipython",
    "version": 3
   },
   "file_extension": ".py",
   "mimetype": "text/x-python",
   "name": "python",
   "nbconvert_exporter": "python",
   "pygments_lexer": "ipython3",
   "version": "3.7.9"
  }
 },
 "nbformat": 4,
 "nbformat_minor": 2
}
