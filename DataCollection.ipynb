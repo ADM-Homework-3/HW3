{
 "cells": [
  {
   "cell_type": "code",
   "execution_count": 1,
   "metadata": {},
   "outputs": [],
   "source": [
    "import data_collection as dc"
   ]
  },
  {
   "cell_type": "code",
   "execution_count": 2,
   "metadata": {},
   "outputs": [
    {
     "name": "stdout",
     "output_type": "stream",
     "text": [
      "3.html\n",
      "The Hunger Games\n",
      "(The Hunger Games #1)\n",
      "Suzanne Collins\n",
      "4.33\n",
      "6404937\n",
      "172511\n",
      "In the ruins of a place once known as North America lies the nation of Panem, a shining Capitol surrounded by twelve outlying districts. The Capitol is harsh and cruel and keeps the districts in line by forcing them all to send one boy and one girl between the ages of twelve and eighteen to participate in the annual Hunger Games, a fight to the death on live TV. Sixteen-year-old Katniss Everdeen, who lives alone with her mother and younger sister, regards it as a death sentence when she steps forward to take her sister's place in the Games. But Katniss has been close to dead before—and survival, for her, is second nature. Without really meaning to, she becomes a contender. But if she is to win, she will have to start making choices that weight survival against humanity and life against love.\n",
      "374\n",
      "September 14th 2008\n",
      "['Katniss Everdeen', 'Peeta Mellark', 'Cato (Hunger Games)', 'Primrose Everdeen', 'Gale Hawthorne', 'Effie Trinket', 'Haymitch Abernathy', 'Cinna', 'President Coriolanus Snow', 'Rue', 'Flavius', 'Lavinia (Hunger Games)', 'Marvel', 'Glimmer', 'Clove', 'Foxface', 'Thresh', 'Greasy Sae', 'Madge Undersee', 'Caesar Flickerman', 'Claudius Templesmith', 'Octavia (Hunger Games)', 'Portia (hunger Games)']\n",
      "['District 12, Panem', 'Capitol, Panem', 'Panem']\n",
      "https://www.goodreads.com/book/show/2767052-the-hunger-games\n",
      "=============\n",
      "4.html\n",
      "Harry Potter and the Order of the Phoenix\n",
      "(Harry Potter #5)\n",
      "J.K. Rowling\n",
      "4.50\n",
      "2522815\n",
      "42696\n",
      "There is a door at the end of a silent corridor. And it’s haunting Harry Pottter’s dreams. Why else would he be waking in the middle of the night, screaming in terror? Harry has a lot on his mind for this, his fifth year at Hogwarts: a Defense Against the Dark Arts teacher with a personality like poisoned honey; a big surprise on the Gryffindor Quidditch team; and the looming terror of the Ordinary Wizarding Level exams. But all these things pale next to the growing threat of He-Who-Must-Not-Be-Named - a threat that neither the magical government nor the authorities at Hogwarts can stop. As the grasp of darkness tightens, Harry must discover the true depth and strength of his friends, the importance of boundless loyalty, and the shocking price of unbearable sacrifice. His fate depends on them all.\n",
      "870\n",
      "September 2004\n",
      "['Sirius Black', 'Draco Malfoy', 'Ron Weasley', 'Petunia Dursley', 'Vernon Dursley', 'Dudley Dursley', 'Severus Snape', 'Rubeus Hagrid', 'Lord Voldemort', 'Minerva McGonagall', 'Neville Longbottom', 'Fred Weasley', 'George Weasley', 'Percy Weasley', 'Ginny Weasley', 'Colin Creevey', 'Filius Flitwick', 'Gilderoy Lockhart', 'Lucius Malfoy', 'Pomona Sprout', 'Arthur Weasley', 'Molly Weasley', 'Cho Chang', 'Cornelius Fudge', 'Remus Lupin', 'Sybil Trelawney', 'Stan Shunpike', 'Bellatrix Lestrange', 'Alastor Moody', 'Rita Skeeter', 'Luna Lovegood', 'Nymphadora Tonks', 'Dolores Umbridge', 'Dobby', 'Kingsley Shacklebolt', 'Padma Patil', 'Parvati Patil', 'Kreacher', 'Dean Thomas', 'Seamus Finnigan', 'Albus Dumbledore', 'Harry Potter', 'Hermione Granger', 'Lavender Brown']\n",
      "['Hogwarts School of Witchcraft and Wizardry', 'London, England']\n",
      "https://www.goodreads.com/book/show/2.Harry_Potter_and_the_Order_of_the_Phoenix\n",
      "=============\n"
     ]
    }
   ],
   "source": [
    "dc.parse_html_in_folder('Page_1')"
   ]
  },
  {
   "cell_type": "code",
   "execution_count": 3,
   "metadata": {},
   "outputs": [
    {
     "name": "stdout",
     "output_type": "stream",
     "text": [
      "['The Hunger Games', '(The Hunger Games #1)', 'Suzanne Collins', '4.33', '6404937', '172511', \"In the ruins of a place once known as North America lies the nation of Panem, a shining Capitol surrounded by twelve outlying districts. The Capitol is harsh and cruel and keeps the districts in line by forcing them all to send one boy and one girl between the ages of twelve and eighteen to participate in the annual Hunger Games, a fight to the death on live TV. Sixteen-year-old Katniss Everdeen, who lives alone with her mother and younger sister, regards it as a death sentence when she steps forward to take her sister's place in the Games. But Katniss has been close to dead before—and survival, for her, is second nature. Without really meaning to, she becomes a contender. But if she is to win, she will have to start making choices that weight survival against humanity and life against love.\", '374', 'September 14th 2008', 'September 14th 2008', \"['Katniss Everdeen', 'Peeta Mellark', 'Cato (Hunger Games)', 'Primrose Everdeen', 'Gale Hawthorne', 'Effie Trinket', 'Haymitch Abernathy', 'Cinna', 'President Coriolanus Snow', 'Rue', 'Flavius', 'Lavinia (Hunger Games)', 'Marvel', 'Glimmer', 'Clove', 'Foxface', 'Thresh', 'Greasy Sae', 'Madge Undersee', 'Caesar Flickerman', 'Claudius Templesmith', 'Octavia (Hunger Games)', 'Portia (hunger Games)']\", \"['District 12, Panem', 'Capitol, Panem', 'Panem']\", 'https://www.goodreads.com/book/show/2767052-the-hunger-games']\n"
     ]
    }
   ],
   "source": [
    "import csv\n",
    "tsv_file = open('Page_1/book3.tsv')\n",
    "read_tsv = csv.reader(tsv_file, delimiter=\"\\t\")\n",
    "for row in read_tsv:\n",
    "    print(row)"
   ]
  },
  {
   "cell_type": "code",
   "execution_count": null,
   "metadata": {},
   "outputs": [],
   "source": []
  }
 ],
 "metadata": {
  "kernelspec": {
   "display_name": "Python [conda env:data_science_general] *",
   "language": "python",
   "name": "conda-env-data_science_general-py"
  },
  "language_info": {
   "codemirror_mode": {
    "name": "ipython",
    "version": 3
   },
   "file_extension": ".py",
   "mimetype": "text/x-python",
   "name": "python",
   "nbconvert_exporter": "python",
   "pygments_lexer": "ipython3",
   "version": "3.7.9"
  }
 },
 "nbformat": 4,
 "nbformat_minor": 4
}
