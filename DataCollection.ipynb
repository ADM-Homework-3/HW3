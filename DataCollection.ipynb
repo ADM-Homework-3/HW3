{
 "cells": [
  {
   "cell_type": "code",
   "execution_count": 1,
   "metadata": {},
   "outputs": [],
   "source": [
    "import data_collection as dc"
   ]
  },
  {
   "cell_type": "code",
   "execution_count": 2,
   "metadata": {},
   "outputs": [
    {
     "name": "stdout",
     "output_type": "stream",
     "text": [
      "article_10001.html\n",
      "article_10002.html\n",
      "article_10003.html\n"
     ]
    }
   ],
   "source": [
    "dc.parse_html_in_folder('data/page_101')"
   ]
  },
  {
   "cell_type": "code",
   "execution_count": 4,
   "metadata": {},
   "outputs": [
    {
     "name": "stdout",
     "output_type": "stream",
     "text": [
      "['Ramona and Her Father', '(Ramona Quimby #4)', 'Beverly Cleary, Alan Tiegreen', '4.03', '27911', '769', \"Ramona's father has lost his job and all the family are miserable, so Ramona decides to try and cheer them up, in her own inimitable way.\", '160', 'November 9th 2000', 'November 9th 2000', 'Ramona Quimby, Beezus Quimby', 'Oregon', 'https://www.goodreads.com/book/show/91247.Ramona_and_Her_Father']\n"
     ]
    }
   ],
   "source": [
    "import csv\n",
    "tsv_file = open('data/tsv_files/book10001.tsv')\n",
    "read_tsv = csv.reader(tsv_file, delimiter=\"\\t\")\n",
    "for row in read_tsv:\n",
    "    print(row)"
   ]
  },
  {
   "cell_type": "code",
   "execution_count": null,
   "metadata": {},
   "outputs": [],
   "source": []
  }
 ],
 "metadata": {
  "kernelspec": {
   "display_name": "Python [conda env:data_science_general] *",
   "language": "python",
   "name": "conda-env-data_science_general-py"
  },
  "language_info": {
   "codemirror_mode": {
    "name": "ipython",
    "version": 3
   },
   "file_extension": ".py",
   "mimetype": "text/x-python",
   "name": "python",
   "nbconvert_exporter": "python",
   "pygments_lexer": "ipython3",
   "version": "3.7.9"
  }
 },
 "nbformat": 4,
 "nbformat_minor": 4
}
